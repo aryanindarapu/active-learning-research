{
 "cells": [
  {
   "cell_type": "code",
   "execution_count": 1,
   "metadata": {},
   "outputs": [],
   "source": [
    "import numpy as np\n",
    "import matplotlib.pyplot as plt\n",
    "\n",
    "from unet_model import UNet\n",
    "from dataset import *\n",
    "from quantitative_results import *"
   ]
  },
  {
   "cell_type": "code",
   "execution_count": 2,
   "metadata": {},
   "outputs": [],
   "source": [
    "config = {\n",
    "  'seed': 310, # random seed\n",
    "  'input_shape': (240, 360), # size of input images (height, width)\n",
    "  'output_shape': (240, 360), # size of output target\n",
    "  'n_train': 40, # number of training images per view\n",
    "  'batch_size': 2, # number of images per optimization step\n",
    "  'lr': 1e-2, # learning rate\n",
    "  'n_epochs': 50, # number of passes through training data\n",
    "  # optionally perform random cropping, specify integer < max(H, W) to use cropping for training\n",
    "  'crop_size': 'None',\n",
    "  # fraction of training epochs to lower learning rate by 1/10, e.g. [0.6, 0.8]\n",
    "  # lowers learning rate at epochs 120 and 160 if we have 200 training epochs\n",
    "  'milestones': [0.8],\n",
    "  'views': ['Almond at Washington North'], # list of views for training  'Almond at Washington East'\n",
    "  'images_path': 'Annotations-Images', # path to RGB images\n",
    "  'gt_path': 'Annotations-GT', # path to ground-truth segmentation masks\n",
    "  'log_path': 'x' # path to directory you make for saving results\n",
    "}\n",
    "\n",
    "# set up model\n",
    "n_channels = 3 # RGB images\n",
    "model = UNet(n_channels)\n",
    "\n",
    "# set up datasets\n",
    "seed = config['seed']\n",
    "np.random.seed(seed) \n",
    "views = config['views']\n",
    "logging_path = config['log_path']\n",
    "if not os.path.exists(logging_path):\n",
    "    os.mkdir(logging_path)"
   ]
  },
  {
   "cell_type": "code",
   "execution_count": 3,
   "metadata": {},
   "outputs": [
    {
     "name": "stdout",
     "output_type": "stream",
     "text": [
      "Loading datasets...\n"
     ]
    }
   ],
   "source": [
    "# make initial datasets for each view\n",
    "print('Loading datasets...')\n",
    "datasets = []\n",
    "for v in views:\n",
    "    datasets.append(BFSEvaluationDataset(config['images_path'],\n",
    "                                         config['gt_path'],\n",
    "                                         [v],\n",
    "                                         config['input_shape'],\n",
    "                                         config['output_shape']))"
   ]
  },
  {
   "cell_type": "code",
   "execution_count": 4,
   "metadata": {},
   "outputs": [
    {
     "name": "stderr",
     "output_type": "stream",
     "text": [
      "100%|██████████| 50/50 [00:54<00:00,  1.09s/it]\n"
     ]
    }
   ],
   "source": [
    "from active_learning import *\n",
    "act = ActiveLearning(model=model, n_init=20 * len(config['views']), n_train_per_view=40, datasets=datasets, config=config)"
   ]
  },
  {
   "cell_type": "code",
   "execution_count": 5,
   "metadata": {},
   "outputs": [
    {
     "name": "stdout",
     "output_type": "stream",
     "text": [
      "running loop\n",
      "Metrics with 20 training images\n",
      "Precision = 0.936 | Recall = 0.735 | F-measure = 0.823 | Blob recall = 0.648\n",
      "\n",
      "new acquisition version\n",
      "Uncertains:  [  75  452  212  784  613  628  833   96  865   19 1279  184  113  717\n",
      "   58  103  426  400  241  261]\n",
      "Chosen uncertainties:  [13  3  6  8 10]\n"
     ]
    },
    {
     "name": "stderr",
     "output_type": "stream",
     "text": [
      "100%|██████████| 50/50 [01:06<00:00,  1.33s/it]"
     ]
    },
    {
     "name": "stdout",
     "output_type": "stream",
     "text": [
      "Metrics with 20 training images\n",
      "Precision = 0.944 | Recall = 0.811 | F-measure = 0.872 | Blob recall = 0.796\n",
      "\n"
     ]
    },
    {
     "name": "stderr",
     "output_type": "stream",
     "text": [
      "\n"
     ]
    }
   ],
   "source": [
    "accuracies = act.run_loop(5)"
   ]
  },
  {
   "cell_type": "code",
   "execution_count": null,
   "metadata": {},
   "outputs": [],
   "source": []
  }
 ],
 "metadata": {
  "kernelspec": {
   "display_name": "Python 3",
   "language": "python",
   "name": "python3"
  },
  "language_info": {
   "codemirror_mode": {
    "name": "ipython",
    "version": 3
   },
   "file_extension": ".py",
   "mimetype": "text/x-python",
   "name": "python",
   "nbconvert_exporter": "python",
   "pygments_lexer": "ipython3",
   "version": "3.6.9"
  },
  "orig_nbformat": 4
 },
 "nbformat": 4,
 "nbformat_minor": 2
}
